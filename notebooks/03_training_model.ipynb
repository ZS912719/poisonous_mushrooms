{
 "cells": [
  {
   "cell_type": "code",
   "id": "initial_id",
   "metadata": {
    "collapsed": true,
    "ExecuteTime": {
     "end_time": "2024-12-10T14:18:21.073697Z",
     "start_time": "2024-12-10T14:18:16.066757Z"
    }
   },
   "source": [
    "from src.BinaryClassificationModel import BinaryClassificationModel\n",
    "import pickle\n",
    "import torch\n",
    "\n",
    "with open('../data/processed/preprocessed.pkl', 'rb') as f:\n",
    "    params = pickle.load(f)\n",
    "\n",
    "model = BinaryClassificationModel(params['X_train'].shape[1])\n",
    "optimizer = torch.optim.Adam(model.parameters(), lr=1e-4)"
   ],
   "outputs": [],
   "execution_count": 1
  },
  {
   "metadata": {
    "ExecuteTime": {
     "end_time": "2024-12-10T14:24:38.938834Z",
     "start_time": "2024-12-10T14:18:22.838064Z"
    }
   },
   "cell_type": "code",
   "source": [
    "from src.binaryClassificationDataset import BinaryClassificationDataset\n",
    "from torch.utils.data import DataLoader\n",
    "\n",
    "dataset = BinaryClassificationDataset(list(zip(params['X_train'], params['y_train'])))\n",
    "dataloader = DataLoader(dataset, batch_size=10, shuffle=True)\n",
    "\n",
    "for epoch in range(30):\n",
    "    model.train()\n",
    "    total_loss = 0\n",
    "\n",
    "    for X_batch, y_batch in dataloader:\n",
    "        optimizer.zero_grad()\n",
    "        y_batch = y_batch.unsqueeze(1)\n",
    "\n",
    "        logits = model(X_batch)\n",
    "        loss = model.loss(logits, y_batch)\n",
    "\n",
    "        loss.backward()\n",
    "        optimizer.step()\n",
    "\n",
    "        total_loss += loss.item()\n",
    "\n",
    "    print(f\"Epoch {epoch+1}, Loss: {total_loss/len(dataloader):.4f}\")\n"
   ],
   "id": "b59d28afe25ec47c",
   "outputs": [
    {
     "name": "stdout",
     "output_type": "stream",
     "text": [
      "Epoch 1, Loss: 0.4711\n",
      "Epoch 2, Loss: 0.2039\n",
      "Epoch 3, Loss: 0.1109\n",
      "Epoch 4, Loss: 0.0850\n",
      "Epoch 5, Loss: 0.0745\n",
      "Epoch 6, Loss: 0.0692\n",
      "Epoch 7, Loss: 0.0655\n",
      "Epoch 8, Loss: 0.0631\n",
      "Epoch 9, Loss: 0.0607\n",
      "Epoch 10, Loss: 0.0590\n",
      "Epoch 11, Loss: 0.0574\n",
      "Epoch 12, Loss: 0.0560\n",
      "Epoch 13, Loss: 0.0547\n",
      "Epoch 14, Loss: 0.0535\n",
      "Epoch 15, Loss: 0.0528\n",
      "Epoch 16, Loss: 0.0519\n",
      "Epoch 17, Loss: 0.0512\n",
      "Epoch 18, Loss: 0.0504\n",
      "Epoch 19, Loss: 0.0497\n",
      "Epoch 20, Loss: 0.0492\n",
      "Epoch 21, Loss: 0.0486\n",
      "Epoch 22, Loss: 0.0476\n",
      "Epoch 23, Loss: 0.0471\n",
      "Epoch 24, Loss: 0.0467\n",
      "Epoch 25, Loss: 0.0460\n",
      "Epoch 26, Loss: 0.0457\n",
      "Epoch 27, Loss: 0.0452\n",
      "Epoch 28, Loss: 0.0448\n",
      "Epoch 29, Loss: 0.0442\n",
      "Epoch 30, Loss: 0.0436\n"
     ]
    }
   ],
   "execution_count": 2
  },
  {
   "metadata": {
    "ExecuteTime": {
     "end_time": "2024-12-10T14:30:53.263624Z",
     "start_time": "2024-12-10T14:30:52.593123Z"
    }
   },
   "cell_type": "code",
   "source": [
    "test_set = BinaryClassificationDataset(list(zip(params['X_test'], params['y_test'])))\n",
    "test_loader = DataLoader(test_set, batch_size=10, shuffle=True)\n",
    "\n",
    "model.eval()\n",
    "test_loss = 0\n",
    "with torch.no_grad():\n",
    "    for X_batch, y_batch in test_loader:\n",
    "        y_batch = y_batch.unsqueeze(1)\n",
    "        logits = model(X_batch)\n",
    "        loss = model.loss(logits, y_batch)\n",
    "        test_loss += loss.item()\n",
    "\n",
    "print(f\"Test Loss: {test_loss/len(test_loader):.4f}\")"
   ],
   "id": "477c9d3cf30a5914",
   "outputs": [
    {
     "name": "stdout",
     "output_type": "stream",
     "text": [
      "Test Loss: 0.0745\n"
     ]
    }
   ],
   "execution_count": 6
  },
  {
   "metadata": {
    "ExecuteTime": {
     "end_time": "2024-12-10T14:28:42.055126Z",
     "start_time": "2024-12-10T14:28:41.646089Z"
    }
   },
   "cell_type": "code",
   "source": "torch.save(model.state_dict(), \"../models/BinaryClassificationModel.pth\")",
   "id": "7e7c23317d7dc3f7",
   "outputs": [],
   "execution_count": 5
  }
 ],
 "metadata": {
  "kernelspec": {
   "display_name": "Python 3",
   "language": "python",
   "name": "python3"
  },
  "language_info": {
   "codemirror_mode": {
    "name": "ipython",
    "version": 2
   },
   "file_extension": ".py",
   "mimetype": "text/x-python",
   "name": "python",
   "nbconvert_exporter": "python",
   "pygments_lexer": "ipython2",
   "version": "2.7.6"
  }
 },
 "nbformat": 4,
 "nbformat_minor": 5
}
