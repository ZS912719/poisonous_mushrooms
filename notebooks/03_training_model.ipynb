{
 "cells": [
  {
   "metadata": {
    "collapsed": true,
    "ExecuteTime": {
     "end_time": "2024-12-15T16:06:10.237328Z",
     "start_time": "2024-12-15T16:06:03.037285Z"
    }
   },
   "cell_type": "code",
   "source": [
    "from src.binaryClassificationModel import BinaryClassificationModel\n",
    "import pickle\n",
    "import torch\n",
    "\n",
    "from src.evaluation import Evaluation\n",
    "from sklearn.model_selection import train_test_split\n",
    "\n",
    "with open('../data/processed/preprocessed_trainSet.pkl', 'rb') as f:\n",
    "    params = pickle.load(f)\n",
    "X_train, X_test, y_train, y_test = train_test_split(params['X'], params['y'], test_size=0.2, random_state=0)\n",
    "\n",
    "device = torch.device(\"cuda\" if torch.cuda.is_available() else \"cpu\")\n",
    "print(f\"Using device: {device}\")\n",
    "print(torch.version.cuda)"
   ],
   "id": "initial_id",
   "outputs": [
    {
     "name": "stdout",
     "output_type": "stream",
     "text": [
      "Using device: cpu\n",
      "None\n"
     ]
    }
   ],
   "execution_count": 1
  },
  {
   "metadata": {
    "ExecuteTime": {
     "end_time": "2024-12-15T16:10:26.054101Z",
     "start_time": "2024-12-15T16:07:36.384416Z"
    }
   },
   "cell_type": "code",
   "source": [
    "model = BinaryClassificationModel(X_train.shape[1])\n",
    "optimizer = torch.optim.Adam(model.parameters(), lr=1e-4)\n",
    "model = model.to(device)\n",
    "\n",
    "from torch.utils.data import DataLoader\n",
    "\n",
    "dataset = list(zip(X_train, y_train))\n",
    "dataloader = DataLoader(dataset, batch_size=10, shuffle=True)\n",
    "\n",
    "for epoch in range(30):\n",
    "    model.train()\n",
    "    total_loss = 0\n",
    "\n",
    "    for X_batch, y_batch in dataloader:\n",
    "        y_batch = y_batch.unsqueeze(1)\n",
    "        X_batch = X_batch.to(device)\n",
    "        y_batch = y_batch.to(device)\n",
    "\n",
    "        optimizer.zero_grad()\n",
    "        logits = model(X_batch)\n",
    "        loss = model.loss(logits, y_batch)\n",
    "\n",
    "        loss.backward()\n",
    "        optimizer.step()\n",
    "\n",
    "        total_loss += loss.item()\n",
    "\n",
    "    print(f\"Epoch {epoch+1}, Loss: {total_loss/len(dataloader):.4f}\")\n"
   ],
   "id": "b59d28afe25ec47c",
   "outputs": [
    {
     "name": "stdout",
     "output_type": "stream",
     "text": [
      "Epoch 1, Loss: 0.4852\n",
      "Epoch 2, Loss: 0.2334\n",
      "Epoch 3, Loss: 0.1280\n",
      "Epoch 4, Loss: 0.0944\n",
      "Epoch 5, Loss: 0.0815\n",
      "Epoch 6, Loss: 0.0742\n",
      "Epoch 7, Loss: 0.0699\n",
      "Epoch 8, Loss: 0.0668\n",
      "Epoch 9, Loss: 0.0640\n",
      "Epoch 10, Loss: 0.0621\n",
      "Epoch 11, Loss: 0.0603\n",
      "Epoch 12, Loss: 0.0590\n",
      "Epoch 13, Loss: 0.0579\n",
      "Epoch 14, Loss: 0.0565\n",
      "Epoch 15, Loss: 0.0557\n",
      "Epoch 16, Loss: 0.0543\n",
      "Epoch 17, Loss: 0.0537\n",
      "Epoch 18, Loss: 0.0529\n",
      "Epoch 19, Loss: 0.0521\n",
      "Epoch 20, Loss: 0.0511\n",
      "Epoch 21, Loss: 0.0505\n",
      "Epoch 22, Loss: 0.0499\n",
      "Epoch 23, Loss: 0.0495\n",
      "Epoch 24, Loss: 0.0488\n",
      "Epoch 25, Loss: 0.0482\n",
      "Epoch 26, Loss: 0.0474\n",
      "Epoch 27, Loss: 0.0471\n",
      "Epoch 28, Loss: 0.0466\n",
      "Epoch 29, Loss: 0.0457\n",
      "Epoch 30, Loss: 0.0455\n"
     ]
    }
   ],
   "execution_count": 2
  },
  {
   "metadata": {
    "ExecuteTime": {
     "end_time": "2024-12-15T16:10:37.641998Z",
     "start_time": "2024-12-15T16:10:37.147997Z"
    }
   },
   "cell_type": "code",
   "source": [
    "test_set = list(zip(X_test, y_test))\n",
    "test_loader = DataLoader(test_set, batch_size=10, shuffle=True)\n",
    "\n",
    "model.eval()\n",
    "test_loss = 0\n",
    "with torch.no_grad():\n",
    "    for X_batch, y_batch in test_loader:\n",
    "        y_batch = y_batch.unsqueeze(1)\n",
    "        X_batch = X_batch.to(device)\n",
    "        y_batch = y_batch.to(device)\n",
    "\n",
    "        logits = model(X_batch)\n",
    "        loss = model.loss(logits, y_batch)\n",
    "        test_loss += loss.item()\n",
    "\n",
    "print(f\"Test Loss: {test_loss/len(test_loader):.4f}\")"
   ],
   "id": "477c9d3cf30a5914",
   "outputs": [
    {
     "name": "stdout",
     "output_type": "stream",
     "text": [
      "Test Loss: 0.0735\n"
     ]
    }
   ],
   "execution_count": 3
  },
  {
   "metadata": {
    "ExecuteTime": {
     "end_time": "2024-12-15T16:10:39.499329Z",
     "start_time": "2024-12-15T16:10:39.493344Z"
    }
   },
   "cell_type": "code",
   "source": "torch.save(model.state_dict(), \"../models/BinaryClassificationModel.pth\")",
   "id": "7e7c23317d7dc3f7",
   "outputs": [],
   "execution_count": 4
  }
 ],
 "metadata": {
  "kernelspec": {
   "display_name": "Python 3",
   "language": "python",
   "name": "python3"
  },
  "language_info": {
   "codemirror_mode": {
    "name": "ipython",
    "version": 2
   },
   "file_extension": ".py",
   "mimetype": "text/x-python",
   "name": "python",
   "nbconvert_exporter": "python",
   "pygments_lexer": "ipython2",
   "version": "2.7.6"
  }
 },
 "nbformat": 4,
 "nbformat_minor": 5
}
