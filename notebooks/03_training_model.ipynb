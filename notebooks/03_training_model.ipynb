{
 "cells": [
  {
   "metadata": {
    "collapsed": true,
    "ExecuteTime": {
     "end_time": "2024-12-14T16:49:54.625461Z",
     "start_time": "2024-12-14T16:49:51.165410Z"
    }
   },
   "cell_type": "code",
   "source": [
    "from src.binaryClassificationModel import BinaryClassificationModel\n",
    "import pickle\n",
    "import torch\n",
    "\n",
    "from src.evaluation import Evaluation\n",
    "\n",
    "with open('../data/processed/preprocessed.pkl', 'rb') as f:\n",
    "    params = pickle.load(f)"
   ],
   "id": "initial_id",
   "outputs": [],
   "execution_count": 4
  },
  {
   "metadata": {},
   "cell_type": "code",
   "outputs": [],
   "execution_count": null,
   "source": [
    "model = BinaryClassificationModel(params['X_train'].shape[1])\n",
    "optimizer = torch.optim.Adam(model.parameters(), lr=1e-4)"
   ],
   "id": "73d9ca3699607a46"
  },
  {
   "metadata": {
    "ExecuteTime": {
     "end_time": "2024-12-14T16:47:54.656144Z",
     "start_time": "2024-12-14T16:42:20.819922Z"
    }
   },
   "cell_type": "code",
   "source": [
    "from src.binaryClassificationDataset import BinaryClassificationDataset\n",
    "from torch.utils.data import DataLoader\n",
    "\n",
    "dataset = BinaryClassificationDataset(list(zip(params['X_train'], params['y_train'])))\n",
    "dataloader = DataLoader(dataset, batch_size=10, shuffle=True)\n",
    "\n",
    "for epoch in range(30):\n",
    "    model.train()\n",
    "    total_loss = 0\n",
    "\n",
    "    for X_batch, y_batch in dataloader:\n",
    "        optimizer.zero_grad()\n",
    "        y_batch = y_batch.unsqueeze(1)\n",
    "\n",
    "        logits = model(X_batch)\n",
    "        loss = model.loss(logits, y_batch)\n",
    "\n",
    "        loss.backward()\n",
    "        optimizer.step()\n",
    "\n",
    "        total_loss += loss.item()\n",
    "\n",
    "    print(f\"Epoch {epoch+1}, Loss: {total_loss/len(dataloader):.4f}\")\n"
   ],
   "id": "b59d28afe25ec47c",
   "outputs": [
    {
     "name": "stdout",
     "output_type": "stream",
     "text": [
      "Epoch 1, Loss: 0.4979\n",
      "Epoch 2, Loss: 0.2652\n",
      "Epoch 3, Loss: 0.1457\n",
      "Epoch 4, Loss: 0.1015\n",
      "Epoch 5, Loss: 0.0847\n",
      "Epoch 6, Loss: 0.0763\n",
      "Epoch 7, Loss: 0.0708\n",
      "Epoch 8, Loss: 0.0671\n",
      "Epoch 9, Loss: 0.0646\n",
      "Epoch 10, Loss: 0.0622\n",
      "Epoch 11, Loss: 0.0605\n",
      "Epoch 12, Loss: 0.0591\n",
      "Epoch 13, Loss: 0.0576\n",
      "Epoch 14, Loss: 0.0563\n",
      "Epoch 15, Loss: 0.0551\n",
      "Epoch 16, Loss: 0.0543\n",
      "Epoch 17, Loss: 0.0532\n",
      "Epoch 18, Loss: 0.0520\n",
      "Epoch 19, Loss: 0.0511\n",
      "Epoch 20, Loss: 0.0508\n",
      "Epoch 21, Loss: 0.0500\n",
      "Epoch 22, Loss: 0.0494\n",
      "Epoch 23, Loss: 0.0484\n",
      "Epoch 24, Loss: 0.0479\n",
      "Epoch 25, Loss: 0.0472\n",
      "Epoch 26, Loss: 0.0467\n",
      "Epoch 27, Loss: 0.0463\n",
      "Epoch 28, Loss: 0.0459\n",
      "Epoch 29, Loss: 0.0452\n",
      "Epoch 30, Loss: 0.0452\n"
     ]
    }
   ],
   "execution_count": 3
  },
  {
   "metadata": {
    "ExecuteTime": {
     "end_time": "2024-12-14T16:48:16.076013Z",
     "start_time": "2024-12-14T16:48:15.330017Z"
    }
   },
   "cell_type": "code",
   "source": [
    "test_set = BinaryClassificationDataset(list(zip(params['X_test'], params['y_test'])))\n",
    "test_loader = DataLoader(test_set, batch_size=10, shuffle=True)\n",
    "\n",
    "model.eval()\n",
    "test_loss = 0\n",
    "with torch.no_grad():\n",
    "    for X_batch, y_batch in test_loader:\n",
    "        y_batch = y_batch.unsqueeze(1)\n",
    "        logits = model(X_batch)\n",
    "        loss = model.loss(logits, y_batch)\n",
    "        test_loss += loss.item()\n",
    "\n",
    "print(f\"Test Loss: {test_loss/len(test_loader):.4f}\")"
   ],
   "id": "477c9d3cf30a5914",
   "outputs": [
    {
     "name": "stdout",
     "output_type": "stream",
     "text": [
      "Test Loss: 0.0740\n"
     ]
    }
   ],
   "execution_count": 4
  },
  {
   "metadata": {
    "ExecuteTime": {
     "end_time": "2024-12-14T16:48:19.040503Z",
     "start_time": "2024-12-14T16:48:19.019122Z"
    }
   },
   "cell_type": "code",
   "source": "torch.save(model.state_dict(), \"../models/BinaryClassificationModel.pth\")",
   "id": "7e7c23317d7dc3f7",
   "outputs": [],
   "execution_count": 5
  },
  {
   "metadata": {
    "ExecuteTime": {
     "end_time": "2024-12-14T16:50:02.369959Z",
     "start_time": "2024-12-14T16:50:01.653977Z"
    }
   },
   "cell_type": "code",
   "source": [
    "evaluation = Evaluation(params['X_test'],params['y_test'])\n",
    "evaluation()"
   ],
   "id": "8782c1cbf8ffb812",
   "outputs": [
    {
     "name": "stdout",
     "output_type": "stream",
     "text": [
      "Model loaded successfully.\n",
      "Evaluation Metrics: {'accuracy': 0.9829, 'precision': 0.9846938775510204, 'recall': 0.9841558914587507, 'f1_score': 0.9844248110028236}\n"
     ]
    }
   ],
   "execution_count": 5
  }
 ],
 "metadata": {
  "kernelspec": {
   "display_name": "Python 3",
   "language": "python",
   "name": "python3"
  },
  "language_info": {
   "codemirror_mode": {
    "name": "ipython",
    "version": 2
   },
   "file_extension": ".py",
   "mimetype": "text/x-python",
   "name": "python",
   "nbconvert_exporter": "python",
   "pygments_lexer": "ipython2",
   "version": "2.7.6"
  }
 },
 "nbformat": 4,
 "nbformat_minor": 5
}
