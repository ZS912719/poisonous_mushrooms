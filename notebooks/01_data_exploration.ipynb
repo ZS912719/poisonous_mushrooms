{
 "cells": [
  {
   "cell_type": "markdown",
   "id": "a9dc4f67",
   "metadata": {},
   "source": "Data exploration:"
  },
  {
   "metadata": {
    "ExecuteTime": {
     "end_time": "2024-11-26T18:19:12.457655Z",
     "start_time": "2024-11-26T18:18:59.590253Z"
    }
   },
   "cell_type": "code",
   "source": [
    "import sys\n",
    "import os\n",
    "\n",
    "project_root = os.path.abspath(\"..\")  \n",
    "sys.path.append(project_root)\n",
    "\n",
    "from src.load_csv import train_set,test_set"
   ],
   "id": "e1bc3ace16d036af",
   "outputs": [],
   "execution_count": 1
  },
  {
   "cell_type": "code",
   "id": "ae99ccba",
   "metadata": {
    "ExecuteTime": {
     "end_time": "2024-11-26T20:51:34.497086Z",
     "start_time": "2024-11-26T20:51:33.915608Z"
    }
   },
   "source": "print(train_set['class'].value_counts(normalize=True))",
   "outputs": [
    {
     "name": "stdout",
     "output_type": "stream",
     "text": [
      "p    0.547137\n",
      "e    0.452863\n",
      "Name: class, dtype: float64\n"
     ]
    }
   ],
   "execution_count": 6
  },
  {
   "metadata": {
    "ExecuteTime": {
     "end_time": "2024-11-26T20:51:47.589361Z",
     "start_time": "2024-11-26T20:51:47.561695Z"
    }
   },
   "cell_type": "code",
   "source": [
    "print(train_set.shape)\n",
    "print(train_set.info())\n",
    "print(train_set.head())"
   ],
   "id": "cb6dd18f",
   "outputs": [
    {
     "name": "stdout",
     "output_type": "stream",
     "text": [
      "(3116945, 22)\n",
      "<class 'pandas.core.frame.DataFrame'>\n",
      "RangeIndex: 3116945 entries, 0 to 3116944\n",
      "Data columns (total 22 columns):\n",
      " #   Column                Dtype  \n",
      "---  ------                -----  \n",
      " 0   id                    int64  \n",
      " 1   class                 object \n",
      " 2   cap-diameter          float64\n",
      " 3   cap-shape             object \n",
      " 4   cap-surface           object \n",
      " 5   cap-color             object \n",
      " 6   does-bruise-or-bleed  object \n",
      " 7   gill-attachment       object \n",
      " 8   gill-spacing          object \n",
      " 9   gill-color            object \n",
      " 10  stem-height           float64\n",
      " 11  stem-width            float64\n",
      " 12  stem-root             object \n",
      " 13  stem-surface          object \n",
      " 14  stem-color            object \n",
      " 15  veil-type             object \n",
      " 16  veil-color            object \n",
      " 17  has-ring              object \n",
      " 18  ring-type             object \n",
      " 19  spore-print-color     object \n",
      " 20  habitat               object \n",
      " 21  season                object \n",
      "dtypes: float64(3), int64(1), object(18)\n",
      "memory usage: 523.2+ MB\n",
      "None\n",
      "   id class  cap-diameter cap-shape cap-surface cap-color  \\\n",
      "0   0     e          8.80         f           s         u   \n",
      "1   1     p          4.51         x           h         o   \n",
      "2   2     e          6.94         f           s         b   \n",
      "3   3     e          3.88         f           y         g   \n",
      "4   4     e          5.85         x           l         w   \n",
      "\n",
      "  does-bruise-or-bleed gill-attachment gill-spacing gill-color  ...  \\\n",
      "0                    f               a            c          w  ...   \n",
      "1                    f               a            c          n  ...   \n",
      "2                    f               x            c          w  ...   \n",
      "3                    f               s          NaN          g  ...   \n",
      "4                    f               d          NaN          w  ...   \n",
      "\n",
      "   stem-root  stem-surface stem-color veil-type veil-color has-ring ring-type  \\\n",
      "0        NaN           NaN          w       NaN        NaN        f         f   \n",
      "1        NaN             y          o       NaN        NaN        t         z   \n",
      "2        NaN             s          n       NaN        NaN        f         f   \n",
      "3        NaN           NaN          w       NaN        NaN        f         f   \n",
      "4        NaN           NaN          w       NaN        NaN        f         f   \n",
      "\n",
      "  spore-print-color habitat season  \n",
      "0               NaN       d      a  \n",
      "1               NaN       d      w  \n",
      "2               NaN       l      w  \n",
      "3               NaN       d      u  \n",
      "4               NaN       g      a  \n",
      "\n",
      "[5 rows x 22 columns]\n"
     ]
    }
   ],
   "execution_count": 7
  },
  {
   "metadata": {
    "ExecuteTime": {
     "end_time": "2024-11-26T20:51:49.858574Z",
     "start_time": "2024-11-26T20:51:49.824101Z"
    }
   },
   "cell_type": "code",
   "source": [
    "print(test_set.shape)\n",
    "print(test_set.info())\n",
    "print(test_set.head())"
   ],
   "id": "ceee09b170e23c63",
   "outputs": [
    {
     "name": "stdout",
     "output_type": "stream",
     "text": [
      "(2077964, 21)\n",
      "<class 'pandas.core.frame.DataFrame'>\n",
      "RangeIndex: 2077964 entries, 0 to 2077963\n",
      "Data columns (total 21 columns):\n",
      " #   Column                Dtype  \n",
      "---  ------                -----  \n",
      " 0   id                    int64  \n",
      " 1   cap-diameter          float64\n",
      " 2   cap-shape             object \n",
      " 3   cap-surface           object \n",
      " 4   cap-color             object \n",
      " 5   does-bruise-or-bleed  object \n",
      " 6   gill-attachment       object \n",
      " 7   gill-spacing          object \n",
      " 8   gill-color            object \n",
      " 9   stem-height           float64\n",
      " 10  stem-width            float64\n",
      " 11  stem-root             object \n",
      " 12  stem-surface          object \n",
      " 13  stem-color            object \n",
      " 14  veil-type             object \n",
      " 15  veil-color            object \n",
      " 16  has-ring              object \n",
      " 17  ring-type             object \n",
      " 18  spore-print-color     object \n",
      " 19  habitat               object \n",
      " 20  season                object \n",
      "dtypes: float64(3), int64(1), object(17)\n",
      "memory usage: 332.9+ MB\n",
      "None\n",
      "        id  cap-diameter cap-shape cap-surface cap-color does-bruise-or-bleed  \\\n",
      "0  3116945          8.64         x         NaN         n                    t   \n",
      "1  3116946          6.90         o           t         o                    f   \n",
      "2  3116947          2.00         b           g         n                    f   \n",
      "3  3116948          3.47         x           t         n                    f   \n",
      "4  3116949          6.17         x           h         y                    f   \n",
      "\n",
      "  gill-attachment gill-spacing gill-color  stem-height  ...  stem-root  \\\n",
      "0             NaN          NaN          w        11.13  ...          b   \n",
      "1             NaN            c          y         1.27  ...        NaN   \n",
      "2             NaN            c          n         6.18  ...        NaN   \n",
      "3               s            c          n         4.98  ...        NaN   \n",
      "4               p          NaN          y         6.73  ...        NaN   \n",
      "\n",
      "  stem-surface stem-color veil-type veil-color has-ring ring-type  \\\n",
      "0          NaN          w         u          w        t         g   \n",
      "1          NaN          n       NaN        NaN        f         f   \n",
      "2          NaN          n       NaN        NaN        f         f   \n",
      "3          NaN          w       NaN          n        t         z   \n",
      "4          NaN          y       NaN          y        t       NaN   \n",
      "\n",
      "  spore-print-color habitat season  \n",
      "0               NaN       d      a  \n",
      "1               NaN       d      a  \n",
      "2               NaN       d      s  \n",
      "3               NaN       d      u  \n",
      "4               NaN       d      u  \n",
      "\n",
      "[5 rows x 21 columns]\n"
     ]
    }
   ],
   "execution_count": 8
  },
  {
   "metadata": {},
   "cell_type": "markdown",
   "source": "Distribution of the target variables:",
   "id": "7b063a0b"
  },
  {
   "metadata": {
    "ExecuteTime": {
     "end_time": "2024-11-26T21:07:56.547209Z",
     "start_time": "2024-11-26T21:07:54.773210Z"
    }
   },
   "cell_type": "code",
   "source": "print(train_set.isnull().mean())",
   "id": "a660af88b215fc59",
   "outputs": [
    {
     "name": "stdout",
     "output_type": "stream",
     "text": [
      "id                      0.000000\n",
      "class                   0.000000\n",
      "cap-diameter            0.000001\n",
      "cap-shape               0.000013\n",
      "cap-surface             0.215282\n",
      "cap-color               0.000004\n",
      "does-bruise-or-bleed    0.000003\n",
      "gill-attachment         0.168093\n",
      "gill-spacing            0.403740\n",
      "gill-color              0.000018\n",
      "stem-height             0.000000\n",
      "stem-width              0.000000\n",
      "stem-root               0.884527\n",
      "stem-surface            0.635514\n",
      "stem-color              0.000012\n",
      "veil-type               0.948843\n",
      "veil-color              0.879370\n",
      "has-ring                0.000008\n",
      "ring-type               0.041348\n",
      "spore-print-color       0.914255\n",
      "habitat                 0.000014\n",
      "season                  0.000000\n",
      "dtype: float64\n"
     ]
    }
   ],
   "execution_count": 12
  }
 ],
 "metadata": {
  "kernelspec": {
   "display_name": "Python 3",
   "language": "python",
   "name": "python3"
  },
  "language_info": {
   "codemirror_mode": {
    "name": "ipython",
    "version": 3
   },
   "file_extension": ".py",
   "mimetype": "text/x-python",
   "name": "python",
   "nbconvert_exporter": "python",
   "pygments_lexer": "ipython3",
   "version": "3.6.13"
  }
 },
 "nbformat": 4,
 "nbformat_minor": 5
}
