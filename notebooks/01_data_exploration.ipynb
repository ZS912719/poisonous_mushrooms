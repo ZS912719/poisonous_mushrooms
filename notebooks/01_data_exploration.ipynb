{
 "cells": [
  {
   "cell_type": "markdown",
   "id": "7744e5fe",
   "metadata": {},
   "source": [
    "Load data from training set"
   ]
  },
  {
   "cell_type": "code",
   "execution_count": 6,
   "id": "e4006497",
   "metadata": {},
   "outputs": [],
   "source": [
    "import pandas as pd\n",
    "data = pd.read_csv('../data/train.csv')"
   ]
  },
  {
   "cell_type": "markdown",
   "id": "a9dc4f67",
   "metadata": {},
   "source": [
    "Data exploration:"
   ]
  },
  {
   "cell_type": "code",
   "execution_count": 7,
   "id": "cb6dd18f",
   "metadata": {},
   "outputs": [
    {
     "name": "stdout",
     "output_type": "stream",
     "text": [
      "(3116945, 22)\n",
      "<class 'pandas.core.frame.DataFrame'>\n",
      "RangeIndex: 3116945 entries, 0 to 3116944\n",
      "Data columns (total 22 columns):\n",
      " #   Column                Dtype  \n",
      "---  ------                -----  \n",
      " 0   id                    int64  \n",
      " 1   class                 object \n",
      " 2   cap-diameter          float64\n",
      " 3   cap-shape             object \n",
      " 4   cap-surface           object \n",
      " 5   cap-color             object \n",
      " 6   does-bruise-or-bleed  object \n",
      " 7   gill-attachment       object \n",
      " 8   gill-spacing          object \n",
      " 9   gill-color            object \n",
      " 10  stem-height           float64\n",
      " 11  stem-width            float64\n",
      " 12  stem-root             object \n",
      " 13  stem-surface          object \n",
      " 14  stem-color            object \n",
      " 15  veil-type             object \n",
      " 16  veil-color            object \n",
      " 17  has-ring              object \n",
      " 18  ring-type             object \n",
      " 19  spore-print-color     object \n",
      " 20  habitat               object \n",
      " 21  season                object \n",
      "dtypes: float64(3), int64(1), object(18)\n",
      "memory usage: 523.2+ MB\n",
      "None\n",
      "   id class  cap-diameter cap-shape cap-surface cap-color  \\\n",
      "0   0     e          8.80         f           s         u   \n",
      "1   1     p          4.51         x           h         o   \n",
      "2   2     e          6.94         f           s         b   \n",
      "3   3     e          3.88         f           y         g   \n",
      "4   4     e          5.85         x           l         w   \n",
      "\n",
      "  does-bruise-or-bleed gill-attachment gill-spacing gill-color  ...  \\\n",
      "0                    f               a            c          w  ...   \n",
      "1                    f               a            c          n  ...   \n",
      "2                    f               x            c          w  ...   \n",
      "3                    f               s          NaN          g  ...   \n",
      "4                    f               d          NaN          w  ...   \n",
      "\n",
      "   stem-root  stem-surface stem-color veil-type veil-color has-ring ring-type  \\\n",
      "0        NaN           NaN          w       NaN        NaN        f         f   \n",
      "1        NaN             y          o       NaN        NaN        t         z   \n",
      "2        NaN             s          n       NaN        NaN        f         f   \n",
      "3        NaN           NaN          w       NaN        NaN        f         f   \n",
      "4        NaN           NaN          w       NaN        NaN        f         f   \n",
      "\n",
      "  spore-print-color habitat season  \n",
      "0               NaN       d      a  \n",
      "1               NaN       d      w  \n",
      "2               NaN       l      w  \n",
      "3               NaN       d      u  \n",
      "4               NaN       g      a  \n",
      "\n",
      "[5 rows x 22 columns]\n"
     ]
    }
   ],
   "source": [
    "print(data.shape)\n",
    "print(data.info())\n",
    "print(data.head())"
   ]
  },
  {
   "cell_type": "code",
   "execution_count": 10,
   "id": "72ba52b1",
   "metadata": {},
   "outputs": [
    {
     "name": "stdout",
     "output_type": "stream",
     "text": [
      "id                            0\n",
      "class                         0\n",
      "cap-diameter                  4\n",
      "cap-shape                    40\n",
      "cap-surface              671023\n",
      "cap-color                    12\n",
      "does-bruise-or-bleed          8\n",
      "gill-attachment          523936\n",
      "gill-spacing            1258435\n",
      "gill-color                   57\n",
      "stem-height                   0\n",
      "stem-width                    0\n",
      "stem-root               2757023\n",
      "stem-surface            1980861\n",
      "stem-color                   38\n",
      "veil-type               2957493\n",
      "veil-color              2740947\n",
      "has-ring                     24\n",
      "ring-type                128880\n",
      "spore-print-color       2849682\n",
      "habitat                      45\n",
      "season                        0\n",
      "dtype: int64\n"
     ]
    }
   ],
   "source": [
    "print(data.isnull().sum())"
   ]
  },
  {
   "cell_type": "code",
   "execution_count": 9,
   "id": "ae99ccba",
   "metadata": {},
   "outputs": [
    {
     "name": "stdout",
     "output_type": "stream",
     "text": [
      "Distribution of the target variables：\n",
      "p    0.547137\n",
      "e    0.452863\n",
      "Name: class, dtype: float64\n"
     ]
    }
   ],
   "source": [
    "print(\"Distribution of the target variables：\")\n",
    "print(data['class'].value_counts(normalize=True))"
   ]
  }
 ],
 "metadata": {
  "kernelspec": {
   "display_name": "Python 3",
   "language": "python",
   "name": "python3"
  },
  "language_info": {
   "codemirror_mode": {
    "name": "ipython",
    "version": 3
   },
   "file_extension": ".py",
   "mimetype": "text/x-python",
   "name": "python",
   "nbconvert_exporter": "python",
   "pygments_lexer": "ipython3",
   "version": "3.6.13"
  }
 },
 "nbformat": 4,
 "nbformat_minor": 5
}
