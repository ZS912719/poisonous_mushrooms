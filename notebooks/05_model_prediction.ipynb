{
 "cells": [
  {
   "cell_type": "code",
   "id": "initial_id",
   "metadata": {
    "collapsed": true,
    "ExecuteTime": {
     "end_time": "2024-12-15T21:31:58.052661Z",
     "start_time": "2024-12-15T21:31:48.091250Z"
    }
   },
   "source": [
    "import pickle\n",
    "import torch\n",
    "\n",
    "from src.dataSet import ProcessedDataSet\n",
    "from src.load_csv import test_set\n",
    "from src.preprocess import Preprocess\n",
    "with open('../data/processed/preprocessed_trainSet.pkl', 'rb') as f:\n",
    "    params = pickle.load(f)"
   ],
   "outputs": [
    {
     "name": "stderr",
     "output_type": "stream",
     "text": [
      "C:\\Users\\sheng\\.conda\\envs\\poisonous_mushrooms\\lib\\site-packages\\sklearn\\base.py:376: InconsistentVersionWarning: Trying to unpickle estimator OneHotEncoder from version 1.5.2 when using version 1.5.1. This might lead to breaking code or invalid results. Use at your own risk. For more info please refer to:\n",
      "https://scikit-learn.org/stable/model_persistence.html#security-maintainability-limitations\n",
      "  warnings.warn(\n",
      "C:\\Users\\sheng\\.conda\\envs\\poisonous_mushrooms\\lib\\site-packages\\sklearn\\base.py:376: InconsistentVersionWarning: Trying to unpickle estimator MinMaxScaler from version 1.5.2 when using version 1.5.1. This might lead to breaking code or invalid results. Use at your own risk. For more info please refer to:\n",
      "https://scikit-learn.org/stable/model_persistence.html#security-maintainability-limitations\n",
      "  warnings.warn(\n"
     ]
    }
   ],
   "execution_count": 1
  },
  {
   "metadata": {
    "ExecuteTime": {
     "end_time": "2024-12-15T21:32:21.445174Z",
     "start_time": "2024-12-15T21:31:59.776241Z"
    }
   },
   "cell_type": "code",
   "source": [
    "#prepare validate data\n",
    "preprocess = Preprocess(test_set)\n",
    "validateSet = ProcessedDataSet(preprocess.processed, feature_order=params['feature_order'])\n",
    "validateSet.enc_onehot = params['enc_onehot']\n",
    "validateSet.enc_minmax = params['enc_minmax']\n",
    "validateSet()\n",
    "print(validateSet.sample.head(5))\n",
    "print(validateSet.sample.shape)\n",
    "print(validateSet[0])\n",
    "print(validateSet.X.shape)"
   ],
   "id": "3cddb61f4d3f0359",
   "outputs": [
    {
     "name": "stdout",
     "output_type": "stream",
     "text": [
      "        id  cap-diameter cap-shape cap-surface cap-color does-bruise-or-bleed  \\\n",
      "0  3116945          8.64         x           t         n                    t   \n",
      "1  3116946          6.90         o           t         o                    f   \n",
      "2  3116947          2.00         b           g         n                    f   \n",
      "3  3116948          3.47         x           t         n                    f   \n",
      "4  3116949          6.17         x           h         y                    f   \n",
      "\n",
      "  gill-attachment gill-spacing gill-color  stem-height  stem-width stem-color  \\\n",
      "0               a            c          w        11.13       17.12          w   \n",
      "1               a            c          y         1.27       10.75          n   \n",
      "2               a            c          n         6.18        3.14          n   \n",
      "3               s            c          n         4.98        8.51          w   \n",
      "4               p            c          y         6.73       13.70          y   \n",
      "\n",
      "  has-ring ring-type habitat season  \n",
      "0        t         g       d      a  \n",
      "1        f         f       d      a  \n",
      "2        f         f       d      s  \n",
      "3        t         z       d      u  \n",
      "4        t         f       d      u  \n",
      "(2077964, 16)\n",
      "(tensor([0.0000, 0.0000, 0.0000, 0.0000, 0.0000, 0.0000, 0.0000, 0.0000, 0.0000,\n",
      "        0.0000, 0.0000, 0.0000, 0.0000, 0.0000, 0.0000, 1.0000, 0.0000, 0.0000,\n",
      "        0.0000, 0.0000, 0.0000, 0.0000, 0.0000, 0.0000, 0.0000, 1.0000, 0.0000,\n",
      "        0.0000, 0.0000, 0.0000, 0.0000, 0.0000, 0.0000, 0.0000, 0.0000, 0.0000,\n",
      "        1.0000, 0.0000, 0.0000, 0.0000, 0.0000, 0.0000, 0.0000, 0.0000, 0.0000,\n",
      "        0.0000, 0.0000, 0.0000, 0.0000, 1.0000, 0.0000, 0.0000, 1.0000, 0.0000,\n",
      "        0.0000, 0.0000, 0.0000, 0.0000, 0.0000, 0.0000, 0.0000, 0.0000, 0.0000,\n",
      "        0.0000, 0.0000, 1.0000, 0.0000, 0.0000, 0.0000, 0.0000, 0.0000, 0.0000,\n",
      "        0.0000, 0.0000, 0.0000, 0.0000, 0.0000, 0.0000, 0.0000, 0.0000, 0.0000,\n",
      "        0.0000, 0.0000, 1.0000, 0.0000, 0.0000, 0.0000, 0.0000, 0.0000, 0.0000,\n",
      "        0.0000, 0.0000, 0.0000, 0.0000, 0.0000, 0.0000, 1.0000, 0.0000, 0.0000,\n",
      "        0.0000, 0.0000, 0.0000, 0.0000, 1.0000, 0.0000, 0.0000, 0.0000, 0.0000,\n",
      "        0.0000, 1.0000, 0.0000, 0.0000, 0.0000, 0.0000, 0.0000, 0.0000, 0.0000,\n",
      "        0.0000, 0.0000, 1.0000, 0.0000, 0.0000, 0.0000, 0.0000, 0.0000, 0.0000,\n",
      "        0.0000, 0.0000, 0.0000, 0.0000, 0.0000, 1.0000, 0.0000, 0.0000, 0.0000,\n",
      "        0.1440, 0.3647, 0.2195]), -1)\n",
      "torch.Size([2077964, 138])\n"
     ]
    }
   ],
   "execution_count": 2
  },
  {
   "metadata": {
    "ExecuteTime": {
     "end_time": "2024-12-15T21:32:23.479259Z",
     "start_time": "2024-12-15T21:32:23.439258Z"
    }
   },
   "cell_type": "code",
   "source": [
    "model_path = \"../models/BinaryClassificationModel.pth\"\n",
    "output_file = \"../data/processed/submission.csv\"\n",
    "batch_size = 32\n",
    "input_dim = validateSet.sample.shape[1]\n",
    "device = torch.device(\"cuda\" if torch.cuda.is_available() else \"cpu\")\n",
    "print(f\"Using device: {device}\")"
   ],
   "id": "f4835ae67bfe7f21",
   "outputs": [
    {
     "name": "stdout",
     "output_type": "stream",
     "text": [
      "Using device: cuda\n"
     ]
    }
   ],
   "execution_count": 3
  },
  {
   "metadata": {
    "ExecuteTime": {
     "end_time": "2024-12-15T21:33:24.873492Z",
     "start_time": "2024-12-15T21:32:25.779072Z"
    }
   },
   "cell_type": "code",
   "source": [
    "import pandas as pd\n",
    "from src.predict import Prediction\n",
    "from torch.utils.data import DataLoader\n",
    "\n",
    "predictor = Prediction(validateSet.X,model_path)\n",
    "test_loader = DataLoader(validateSet, batch_size=batch_size, shuffle=False)\n",
    "model = predictor.load_model().to(device)\n",
    "predictions = predictor.predict(model, test_loader, device)\n",
    "ids = validateSet.sample['id'].values\n",
    "submission = pd.DataFrame({\n",
    "    'id': ids,\n",
    "    'class': ['p' if p == 1 else 'e' for p in predictions]\n",
    "})"
   ],
   "id": "6418e9ef63680cd5",
   "outputs": [],
   "execution_count": 4
  },
  {
   "metadata": {
    "ExecuteTime": {
     "end_time": "2024-12-15T21:34:39.108097Z",
     "start_time": "2024-12-15T21:34:37.360653Z"
    }
   },
   "cell_type": "code",
   "source": [
    "submission.to_csv(output_file, index=False)\n",
    "print(f\"Predictions saved to {output_file}\")"
   ],
   "id": "b90fd59e0395c09a",
   "outputs": [
    {
     "name": "stdout",
     "output_type": "stream",
     "text": [
      "Predictions saved to ../data/processed/submission.csv\n"
     ]
    }
   ],
   "execution_count": 5
  },
  {
   "metadata": {
    "ExecuteTime": {
     "end_time": "2024-12-15T21:34:41.644865Z",
     "start_time": "2024-12-15T21:34:41.333865Z"
    }
   },
   "cell_type": "code",
   "source": [
    "overview = pd.read_csv(\"../data/processed/submission.csv\")\n",
    "print(overview.head())"
   ],
   "id": "6984bb14ad40c60e",
   "outputs": [
    {
     "name": "stdout",
     "output_type": "stream",
     "text": [
      "        id class\n",
      "0  3116945     e\n",
      "1  3116946     p\n",
      "2  3116947     p\n",
      "3  3116948     p\n",
      "4  3116949     e\n"
     ]
    }
   ],
   "execution_count": 6
  }
 ],
 "metadata": {
  "kernelspec": {
   "display_name": "Python (poisonous_mushrooms)",
   "language": "python",
   "name": "poisonous_mushrooms"
  },
  "language_info": {
   "codemirror_mode": {
    "name": "ipython",
    "version": 2
   },
   "file_extension": ".py",
   "mimetype": "text/x-python",
   "name": "python",
   "nbconvert_exporter": "python",
   "pygments_lexer": "ipython2",
   "version": "2.7.6"
  }
 },
 "nbformat": 4,
 "nbformat_minor": 5
}
