{
 "cells": [
  {
   "metadata": {},
   "cell_type": "markdown",
   "source": "Data preprocessing",
   "id": "78edf38f0d2f9d74"
  },
  {
   "cell_type": "code",
   "id": "initial_id",
   "metadata": {
    "collapsed": true,
    "ExecuteTime": {
     "end_time": "2024-12-15T11:57:55.929276Z",
     "start_time": "2024-12-15T11:57:45.661787Z"
    }
   },
   "source": [
    "import sys\n",
    "import os\n",
    "\n",
    "from src.preprocess import PreprocessDataset\n",
    "\n",
    "project_root = os.path.abspath(\"..\")\n",
    "sys.path.append(project_root)\n",
    "\n",
    "from src.load_csv import train_set"
   ],
   "outputs": [],
   "execution_count": 1
  },
  {
   "metadata": {
    "ExecuteTime": {
     "end_time": "2024-12-15T11:58:05.302585Z",
     "start_time": "2024-12-15T11:57:58.743465Z"
    }
   },
   "cell_type": "code",
   "source": [
    "dataset = PreprocessDataset(train_set)\n",
    "dataset()\n",
    "print(dataset.sample.head(5))\n",
    "print(dataset.sample.shape)\n",
    "print(dataset[0])"
   ],
   "id": "94e3d8f43f1bde23",
   "outputs": [
    {
     "name": "stdout",
     "output_type": "stream",
     "text": [
      "*******PROCESSED*********\n",
      "              id class  cap-diameter cap-shape cap-surface cap-color  \\\n",
      "430964    430964     p          4.29         b           h         n   \n",
      "1907082  1907082     e          4.12         f           t         n   \n",
      "2626732  2626732     e          6.18         f           i         n   \n",
      "38950      38950     p          4.43         s           t         n   \n",
      "96583      96583     p         12.14         x           k         n   \n",
      "\n",
      "        does-bruise-or-bleed gill-attachment gill-spacing gill-color  \\\n",
      "430964                     f               a            c          k   \n",
      "1907082                    f               x            c          g   \n",
      "2626732                    f               e            c          n   \n",
      "38950                      t               d            c          b   \n",
      "96583                      t               p            c          o   \n",
      "\n",
      "         stem-height  stem-width stem-color has-ring ring-type habitat season  \n",
      "430964          9.95        6.09          w        t         f       g      w  \n",
      "1907082         5.70        3.98          w        f         f       d      u  \n",
      "2626732         4.02       12.81          w        t         r       w      u  \n",
      "38950           6.03        6.37          n        f         f       d      u  \n",
      "96583           7.60       29.43          y        f         f       d      u  \n",
      "(50000, 17)\n",
      "(tensor([0.0000, 0.0000, 1.0000, 0.0000, 0.0000, 0.0000, 0.0000, 0.0000, 0.0000,\n",
      "        0.0000, 0.0000, 0.0000, 0.0000, 0.0000, 0.0000, 0.0000, 0.0000, 0.0000,\n",
      "        0.0000, 0.0000, 1.0000, 0.0000, 0.0000, 0.0000, 0.0000, 0.0000, 0.0000,\n",
      "        0.0000, 0.0000, 0.0000, 0.0000, 0.0000, 0.0000, 0.0000, 0.0000, 0.0000,\n",
      "        1.0000, 0.0000, 0.0000, 0.0000, 0.0000, 0.0000, 0.0000, 0.0000, 0.0000,\n",
      "        1.0000, 0.0000, 0.0000, 0.0000, 0.0000, 0.0000, 0.0000, 1.0000, 0.0000,\n",
      "        0.0000, 0.0000, 0.0000, 0.0000, 0.0000, 0.0000, 0.0000, 0.0000, 0.0000,\n",
      "        0.0000, 0.0000, 1.0000, 0.0000, 0.0000, 0.0000, 0.0000, 0.0000, 0.0000,\n",
      "        0.0000, 0.0000, 0.0000, 1.0000, 0.0000, 0.0000, 0.0000, 0.0000, 0.0000,\n",
      "        0.0000, 0.0000, 0.0000, 0.0000, 0.0000, 0.0000, 0.0000, 0.0000, 0.0000,\n",
      "        0.0000, 0.0000, 0.0000, 0.0000, 0.0000, 0.0000, 1.0000, 0.0000, 0.0000,\n",
      "        0.0000, 0.0000, 0.0000, 0.0000, 1.0000, 0.0000, 0.0000, 0.0000, 0.0000,\n",
      "        1.0000, 0.0000, 0.0000, 0.0000, 0.0000, 0.0000, 0.0000, 0.0000, 0.0000,\n",
      "        0.0000, 0.0000, 0.0000, 0.0000, 1.0000, 0.0000, 0.0000, 0.0000, 0.0000,\n",
      "        0.0000, 0.0000, 0.0000, 0.0000, 0.0000, 0.0000, 0.0000, 0.0000, 1.0000,\n",
      "        0.0676, 0.3260, 0.0781]), tensor(1.))\n"
     ]
    }
   ],
   "execution_count": 2
  },
  {
   "metadata": {
    "ExecuteTime": {
     "end_time": "2024-12-15T11:58:12.394398Z",
     "start_time": "2024-12-15T11:58:10.567473Z"
    }
   },
   "cell_type": "code",
   "source": [
    "import pickle\n",
    "os.makedirs(\"../data\", exist_ok=True)\n",
    "with open('../data/processed/preprocessed_trainSet.pkl', 'wb') as f:\n",
    "    pickle.dump({\n",
    "        'data_set': dataset,\n",
    "        'y': dataset.y,\n",
    "        'X': dataset.X,\n",
    "    }, f)"
   ],
   "id": "faa23f8e2b283f5",
   "outputs": [],
   "execution_count": 3
  }
 ],
 "metadata": {
  "kernelspec": {
   "display_name": "Python 3",
   "language": "python",
   "name": "python3"
  },
  "language_info": {
   "codemirror_mode": {
    "name": "ipython",
    "version": 2
   },
   "file_extension": ".py",
   "mimetype": "text/x-python",
   "name": "python",
   "nbconvert_exporter": "python",
   "pygments_lexer": "ipython2",
   "version": "2.7.6"
  }
 },
 "nbformat": 4,
 "nbformat_minor": 5
}
