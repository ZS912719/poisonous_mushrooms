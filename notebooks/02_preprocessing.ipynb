{
 "cells": [
  {
   "metadata": {},
   "cell_type": "markdown",
   "source": "Data preprocessing",
   "id": "78edf38f0d2f9d74"
  },
  {
   "cell_type": "code",
   "id": "initial_id",
   "metadata": {
    "collapsed": true,
    "ExecuteTime": {
     "end_time": "2024-12-08T20:56:56.569539Z",
     "start_time": "2024-12-08T20:56:47.383321Z"
    }
   },
   "source": [
    "import sys\n",
    "import os\n",
    "\n",
    "from src.preprocess import PreprocessDataset\n",
    "\n",
    "project_root = os.path.abspath(\"..\")\n",
    "sys.path.append(project_root)\n",
    "\n",
    "from src.data_loader import train_set"
   ],
   "outputs": [],
   "execution_count": 1
  },
  {
   "metadata": {
    "ExecuteTime": {
     "end_time": "2024-12-08T20:57:06.816733Z",
     "start_time": "2024-12-08T20:57:00.313489Z"
    }
   },
   "cell_type": "code",
   "source": [
    "df_train = PreprocessDataset(train_set)\n",
    "df_train()\n",
    "print(df_train.sample_train.head(5))\n",
    "print(df_train.sample_train.shape)\n",
    "print(df_train[0])"
   ],
   "id": "94e3d8f43f1bde23",
   "outputs": [
    {
     "name": "stdout",
     "output_type": "stream",
     "text": [
      "subset made and encoded\n",
      "              id class  cap-diameter cap-shape cap-surface cap-color  \\\n",
      "1215638  1215638     p          8.53         x           i         n   \n",
      "796862    796862     p          4.40         x           y         y   \n",
      "435032    435032     e          6.29         x           d         n   \n",
      "402352    402352     e         11.15         s           t         n   \n",
      "3028422  3028422     p          6.49         x           t         n   \n",
      "\n",
      "        does-bruise-or-bleed gill-attachment gill-spacing gill-color  \\\n",
      "1215638                    f               a            c          k   \n",
      "796862                     f               a            c          w   \n",
      "435032                     t               p            c          y   \n",
      "402352                     f               d            c          b   \n",
      "3028422                    t               x            c          n   \n",
      "\n",
      "         stem-height  stem-width stem-color has-ring ring-type habitat season  \n",
      "1215638         8.13        7.99          n        t         z       g      a  \n",
      "796862          4.37        4.68          n        t         r       d      u  \n",
      "435032          7.26       14.07          y        f         f       d      u  \n",
      "402352          7.15       19.41          u        f         f       d      u  \n",
      "3028422         8.49       18.90          u        f         f       d      a  \n",
      "(40, 17)\n",
      "(array([0.        , 0.        , 0.        , 0.        , 0.        ,\n",
      "       1.        , 0.        , 0.        , 0.        , 0.        ,\n",
      "       1.        , 0.        , 0.        , 0.        , 0.        ,\n",
      "       0.        , 0.        , 1.        , 0.        , 0.        ,\n",
      "       0.        , 0.        , 1.        , 0.        , 1.        ,\n",
      "       0.        , 0.        , 0.        , 0.        , 0.        ,\n",
      "       1.        , 0.        , 0.        , 0.        , 0.        ,\n",
      "       0.        , 1.        , 0.        , 0.        , 0.        ,\n",
      "       0.        , 0.        , 0.        , 0.        , 0.        ,\n",
      "       0.        , 1.        , 0.        , 0.        , 0.        ,\n",
      "       0.        , 0.        , 1.        , 0.        , 0.        ,\n",
      "       0.        , 0.        , 1.        , 0.        , 1.        ,\n",
      "       0.        , 0.        , 0.        , 1.        , 0.        ,\n",
      "       0.        , 0.        , 0.53118574, 0.61729622, 0.26327684]), np.int64(1), array([0.        , 0.        , 0.        , 1.        , 0.        ,\n",
      "       0.        , 0.        , 0.        , 0.        , 1.        ,\n",
      "       0.        , 0.        , 1.        , 0.        , 0.        ,\n",
      "       1.        , 0.        , 0.        , 0.        , 0.        ,\n",
      "       0.        , 0.        , 1.        , 0.        , 1.        ,\n",
      "       0.        , 0.        , 0.        , 0.        , 0.        ,\n",
      "       1.        , 0.        , 0.        , 0.        , 1.        ,\n",
      "       0.        , 0.        , 1.        , 0.        , 1.        ,\n",
      "       0.        , 1.        , 0.        , 0.        , 0.        ,\n",
      "       0.        , 0.        , 1.        , 0.31494253, 0.07126949,\n",
      "       0.11547344]), np.int64(0))\n"
     ]
    }
   ],
   "execution_count": 2
  },
  {
   "metadata": {
    "ExecuteTime": {
     "end_time": "2024-12-08T20:58:09.343024Z",
     "start_time": "2024-12-08T20:58:07.565432Z"
    }
   },
   "cell_type": "code",
   "source": [
    "import pickle\n",
    "os.makedirs(\"../data\", exist_ok=True)\n",
    "with open('../data/processed/preprocessed.pkl', 'wb') as f:\n",
    "    pickle.dump({\n",
    "        'data_set': df_train,\n",
    "        'y_train': df_train.y_train,\n",
    "        'X_train': df_train.X_train,\n",
    "        'X_test': df_train.X_test,\n",
    "        'y_test': df_train.y_test,\n",
    "    }, f)"
   ],
   "id": "faa23f8e2b283f5",
   "outputs": [],
   "execution_count": 4
  },
  {
   "metadata": {
    "ExecuteTime": {
     "end_time": "2024-12-08T21:01:13.414396Z",
     "start_time": "2024-12-08T21:01:13.405404Z"
    }
   },
   "cell_type": "code",
   "source": "print(df_train.sample_train.head(5))",
   "id": "15c8288845e4cc85",
   "outputs": [
    {
     "name": "stdout",
     "output_type": "stream",
     "text": [
      "              id class  cap-diameter cap-shape cap-surface cap-color  \\\n",
      "1215638  1215638     p          8.53         x           i         n   \n",
      "796862    796862     p          4.40         x           y         y   \n",
      "435032    435032     e          6.29         x           d         n   \n",
      "402352    402352     e         11.15         s           t         n   \n",
      "3028422  3028422     p          6.49         x           t         n   \n",
      "\n",
      "        does-bruise-or-bleed gill-attachment gill-spacing gill-color  \\\n",
      "1215638                    f               a            c          k   \n",
      "796862                     f               a            c          w   \n",
      "435032                     t               p            c          y   \n",
      "402352                     f               d            c          b   \n",
      "3028422                    t               x            c          n   \n",
      "\n",
      "         stem-height  stem-width stem-color has-ring ring-type habitat season  \n",
      "1215638         8.13        7.99          n        t         z       g      a  \n",
      "796862          4.37        4.68          n        t         r       d      u  \n",
      "435032          7.26       14.07          y        f         f       d      u  \n",
      "402352          7.15       19.41          u        f         f       d      u  \n",
      "3028422         8.49       18.90          u        f         f       d      a  \n"
     ]
    }
   ],
   "execution_count": 5
  }
 ],
 "metadata": {
  "kernelspec": {
   "display_name": "Python 3",
   "language": "python",
   "name": "python3"
  },
  "language_info": {
   "codemirror_mode": {
    "name": "ipython",
    "version": 2
   },
   "file_extension": ".py",
   "mimetype": "text/x-python",
   "name": "python",
   "nbconvert_exporter": "python",
   "pygments_lexer": "ipython2",
   "version": "2.7.6"
  }
 },
 "nbformat": 4,
 "nbformat_minor": 5
}
