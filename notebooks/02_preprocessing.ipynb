{
 "cells": [
  {
   "metadata": {},
   "cell_type": "markdown",
   "source": "Data preprocessing",
   "id": "78edf38f0d2f9d74"
  },
  {
   "cell_type": "code",
   "id": "initial_id",
   "metadata": {
    "collapsed": true,
    "ExecuteTime": {
     "end_time": "2024-12-07T19:43:09.540930Z",
     "start_time": "2024-12-07T19:43:09.532937Z"
    }
   },
   "source": [
    "import sys\n",
    "import os\n",
    "\n",
    "from src.preprocess import DataSet\n",
    "\n",
    "project_root = os.path.abspath(\"..\")\n",
    "sys.path.append(project_root)\n",
    "\n",
    "from src.data_loader import df_train"
   ],
   "outputs": [],
   "execution_count": 2
  },
  {
   "metadata": {
    "ExecuteTime": {
     "end_time": "2024-12-07T19:43:17.642274Z",
     "start_time": "2024-12-07T19:43:10.882275Z"
    }
   },
   "cell_type": "code",
   "source": [
    "dataSet = DataSet(df_train)\n",
    "dataSet()\n",
    "print(dataSet.sample.head(5))\n",
    "print(dataSet.sample.shape)\n",
    "print(dataSet[0])"
   ],
   "id": "cdcc01939353a410",
   "outputs": [
    {
     "name": "stdout",
     "output_type": "stream",
     "text": [
      "subset made and encoded\n",
      "              id class  cap-diameter cap-shape cap-surface cap-color  \\\n",
      "430964    430964     p          4.29         b           h         n   \n",
      "1907082  1907082     e          4.12         f           t         n   \n",
      "2626732  2626732     e          6.18         f           i         n   \n",
      "38950      38950     p          4.43         s           t         n   \n",
      "96583      96583     p         12.14         x           k         n   \n",
      "\n",
      "        does-bruise-or-bleed gill-attachment gill-spacing gill-color  \\\n",
      "430964                     f               a            c          k   \n",
      "1907082                    f               x            c          g   \n",
      "2626732                    f               e            c          n   \n",
      "38950                      t               d            c          b   \n",
      "96583                      t               p            c          o   \n",
      "\n",
      "         stem-height  stem-width stem-color has-ring ring-type habitat season  \n",
      "430964          9.95        6.09          w        t         f       g      w  \n",
      "1907082         5.70        3.98          w        f         f       d      u  \n",
      "2626732         4.02       12.81          w        t         r       w      u  \n",
      "38950           6.03        6.37          n        f         f       d      u  \n",
      "96583           7.60       29.43          y        f         f       d      u  \n",
      "(50, 17)\n",
      "(array([1., 0., 0., 0., 0., 0., 0., 0., 0., 0., 1., 0., 0., 0., 0., 0., 0.,\n",
      "       0., 0., 1., 0., 0., 0., 0., 1., 0., 1., 0., 0., 0., 0., 0., 0., 1.,\n",
      "       0., 0., 0., 0., 0., 1., 0., 0., 0., 0., 0., 0., 0., 0., 0., 0., 0.,\n",
      "       0., 0., 1., 0., 0., 1., 0., 1., 0., 0., 0., 0., 1., 0., 0., 0., 0.,\n",
      "       0., 0., 0., 1.]), array([0.24057574, 0.72472924, 0.17903623]), 1)\n"
     ]
    }
   ],
   "execution_count": 3
  }
 ],
 "metadata": {
  "kernelspec": {
   "display_name": "Python 3",
   "language": "python",
   "name": "python3"
  },
  "language_info": {
   "codemirror_mode": {
    "name": "ipython",
    "version": 2
   },
   "file_extension": ".py",
   "mimetype": "text/x-python",
   "name": "python",
   "nbconvert_exporter": "python",
   "pygments_lexer": "ipython2",
   "version": "2.7.6"
  }
 },
 "nbformat": 4,
 "nbformat_minor": 5
}
