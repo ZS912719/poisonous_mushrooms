{
 "cells": [
  {
   "metadata": {},
   "cell_type": "markdown",
   "source": "Data preprocessing",
   "id": "78edf38f0d2f9d74"
  },
  {
   "cell_type": "code",
   "id": "initial_id",
   "metadata": {
    "collapsed": true,
    "ExecuteTime": {
     "end_time": "2024-11-26T21:13:36.521203Z",
     "start_time": "2024-11-26T21:13:36.502206Z"
    }
   },
   "source": [
    "import sys\n",
    "import os\n",
    "\n",
    "project_root = os.path.abspath(\"..\")\n",
    "sys.path.append(project_root)\n",
    "\n",
    "from src.data_loader import df_train,df_test"
   ],
   "outputs": [],
   "execution_count": 3
  },
  {
   "metadata": {},
   "cell_type": "markdown",
   "source": "Delete columns with too much null values (>80%)",
   "id": "26f231e627b645c0"
  },
  {
   "metadata": {
    "ExecuteTime": {
     "end_time": "2024-11-26T21:14:22.564250Z",
     "start_time": "2024-11-26T21:14:20.325243Z"
    }
   },
   "cell_type": "code",
   "source": [
    "threshold = 0.8\n",
    "high_missing_cols = df_train.columns[df_train.isnull().mean() > threshold]\n",
    "df_train_processed = df_train.drop(columns=high_missing_cols)\n",
    "\n",
    "print(df_train_processed.info())"
   ],
   "id": "cdcc01939353a410",
   "outputs": [
    {
     "name": "stdout",
     "output_type": "stream",
     "text": [
      "<class 'pandas.core.frame.DataFrame'>\n",
      "RangeIndex: 3116945 entries, 0 to 3116944\n",
      "Data columns (total 18 columns):\n",
      " #   Column                Dtype  \n",
      "---  ------                -----  \n",
      " 0   id                    int64  \n",
      " 1   class                 object \n",
      " 2   cap-diameter          float64\n",
      " 3   cap-shape             object \n",
      " 4   cap-surface           object \n",
      " 5   cap-color             object \n",
      " 6   does-bruise-or-bleed  object \n",
      " 7   gill-attachment       object \n",
      " 8   gill-spacing          object \n",
      " 9   gill-color            object \n",
      " 10  stem-height           float64\n",
      " 11  stem-width            float64\n",
      " 12  stem-surface          object \n",
      " 13  stem-color            object \n",
      " 14  has-ring              object \n",
      " 15  ring-type             object \n",
      " 16  habitat               object \n",
      " 17  season                object \n",
      "dtypes: float64(3), int64(1), object(14)\n",
      "memory usage: 428.0+ MB\n",
      "None\n"
     ]
    }
   ],
   "execution_count": 6
  },
  {
   "metadata": {},
   "cell_type": "markdown",
   "source": "For the columns whose null values take less than 50%, I fill them with the mode.",
   "id": "ce0b93c179f5aeeb"
  },
  {
   "metadata": {
    "ExecuteTime": {
     "end_time": "2024-11-26T21:32:33.169307Z",
     "start_time": "2024-11-26T21:32:32.164223Z"
    }
   },
   "cell_type": "code",
   "source": [
    "medium_missing_cols = ['cap-surface', 'gill-attachment', 'gill-spacing']\n",
    "for col in medium_missing_cols:\n",
    "    df_train_processed[col] = df_train_processed[col].fillna(df_train_processed[col].mode()[0])\n",
    "\n",
    "print(df_train_processed.head(5))"
   ],
   "id": "340c943c89a40d3",
   "outputs": [
    {
     "name": "stdout",
     "output_type": "stream",
     "text": [
      "   id class  cap-diameter cap-shape cap-surface cap-color  \\\n",
      "0   0     e          8.80         f           s         u   \n",
      "1   1     p          4.51         x           h         o   \n",
      "2   2     e          6.94         f           s         b   \n",
      "3   3     e          3.88         f           y         g   \n",
      "4   4     e          5.85         x           l         w   \n",
      "\n",
      "  does-bruise-or-bleed gill-attachment gill-spacing gill-color  stem-height  \\\n",
      "0                    f               a            c          w         4.51   \n",
      "1                    f               a            c          n         4.79   \n",
      "2                    f               x            c          w         6.85   \n",
      "3                    f               s            c          g         4.16   \n",
      "4                    f               d            c          w         3.37   \n",
      "\n",
      "   stem-width stem-surface stem-color has-ring ring-type habitat season  \n",
      "0       15.39          NaN          w        f         f       d      a  \n",
      "1        6.48            y          o        t         z       d      w  \n",
      "2        9.93            s          n        f         f       l      w  \n",
      "3        6.53          NaN          w        f         f       d      u  \n",
      "4        8.36          NaN          w        f         f       g      a  \n"
     ]
    }
   ],
   "execution_count": 7
  }
 ],
 "metadata": {
  "kernelspec": {
   "display_name": "Python 3",
   "language": "python",
   "name": "python3"
  },
  "language_info": {
   "codemirror_mode": {
    "name": "ipython",
    "version": 2
   },
   "file_extension": ".py",
   "mimetype": "text/x-python",
   "name": "python",
   "nbconvert_exporter": "python",
   "pygments_lexer": "ipython2",
   "version": "2.7.6"
  }
 },
 "nbformat": 4,
 "nbformat_minor": 5
}
