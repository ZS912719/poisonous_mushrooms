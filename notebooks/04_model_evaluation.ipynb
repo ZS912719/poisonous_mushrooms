{
 "cells": [
  {
   "cell_type": "code",
   "id": "initial_id",
   "metadata": {
    "collapsed": true,
    "ExecuteTime": {
     "end_time": "2024-12-15T16:10:55.930575Z",
     "start_time": "2024-12-15T16:10:48.983466Z"
    }
   },
   "source": [
    "from sklearn.model_selection import train_test_split\n",
    "import pickle\n",
    "with open('../data/processed/preprocessed_trainSet.pkl', 'rb') as f:\n",
    "    params = pickle.load(f)\n",
    "X_train, X_test, y_train, y_test = train_test_split(params['X'], params['y'], test_size=0.2, random_state=0)"
   ],
   "outputs": [],
   "execution_count": 1
  },
  {
   "metadata": {
    "ExecuteTime": {
     "end_time": "2024-12-15T16:10:56.767998Z",
     "start_time": "2024-12-15T16:10:56.558828Z"
    }
   },
   "cell_type": "code",
   "source": [
    "from src.evaluation import Evaluation\n",
    "\n",
    "evaluation = Evaluation(X_test,y_test, model_path = \"../models/BinaryClassificationModel.pth\")\n",
    "evaluation()"
   ],
   "id": "c2aa41029bcc4341",
   "outputs": [
    {
     "name": "stdout",
     "output_type": "stream",
     "text": [
      "Model loaded successfully.\n",
      "Evaluation Metrics: {'accuracy': 0.9817, 'precision': np.float64(0.983424408014572), 'recall': np.float64(0.9832453105081042), 'f1_score': np.float64(0.9833348511064566)}\n"
     ]
    }
   ],
   "execution_count": 2
  }
 ],
 "metadata": {
  "kernelspec": {
   "display_name": "Python 3",
   "language": "python",
   "name": "python3"
  },
  "language_info": {
   "codemirror_mode": {
    "name": "ipython",
    "version": 2
   },
   "file_extension": ".py",
   "mimetype": "text/x-python",
   "name": "python",
   "nbconvert_exporter": "python",
   "pygments_lexer": "ipython2",
   "version": "2.7.6"
  }
 },
 "nbformat": 4,
 "nbformat_minor": 5
}
