{
 "cells": [
  {
   "metadata": {
    "collapsed": true,
    "ExecuteTime": {
     "end_time": "2024-12-15T21:11:26.735454Z",
     "start_time": "2024-12-15T21:11:23.412719Z"
    }
   },
   "cell_type": "code",
   "source": [
    "from sklearn.model_selection import train_test_split\n",
    "import pickle\n",
    "with open('../data/processed/preprocessed_trainSet.pkl', 'rb') as f:\n",
    "    params = pickle.load(f)\n",
    "X_train, X_test, y_train, y_test = train_test_split(params['X'], params['y'], test_size=0.2, random_state=0)"
   ],
   "id": "initial_id",
   "outputs": [
    {
     "name": "stderr",
     "output_type": "stream",
     "text": [
      "C:\\Users\\sheng\\.conda\\envs\\poisonous_mushrooms\\lib\\site-packages\\sklearn\\base.py:376: InconsistentVersionWarning: Trying to unpickle estimator OneHotEncoder from version 1.5.2 when using version 1.5.1. This might lead to breaking code or invalid results. Use at your own risk. For more info please refer to:\n",
      "https://scikit-learn.org/stable/model_persistence.html#security-maintainability-limitations\n",
      "  warnings.warn(\n",
      "C:\\Users\\sheng\\.conda\\envs\\poisonous_mushrooms\\lib\\site-packages\\sklearn\\base.py:376: InconsistentVersionWarning: Trying to unpickle estimator MinMaxScaler from version 1.5.2 when using version 1.5.1. This might lead to breaking code or invalid results. Use at your own risk. For more info please refer to:\n",
      "https://scikit-learn.org/stable/model_persistence.html#security-maintainability-limitations\n",
      "  warnings.warn(\n"
     ]
    }
   ],
   "execution_count": 1
  },
  {
   "metadata": {
    "ExecuteTime": {
     "end_time": "2024-12-15T21:11:30.171229Z",
     "start_time": "2024-12-15T21:11:29.699231Z"
    }
   },
   "cell_type": "code",
   "source": [
    "from src.tools import evaluate_model\n",
    "from torch.utils.data import DataLoader\n",
    "import torch\n",
    "from src.binaryClassificationModel import BinaryClassificationModel\n",
    "\n",
    "model_path =\"../models/BinaryClassificationModel.pth\"\n",
    "model = BinaryClassificationModel(X_test.shape[1])\n",
    "model.load_state_dict(torch.load(model_path, weights_only=True))\n",
    "\n",
    "eval_data = list(zip(X_test, y_test))\n",
    "eval_loader = DataLoader(eval_data, batch_size=32, shuffle=False)\n",
    "\n",
    "metrics = evaluate_model(model, eval_loader)\n",
    "print(\"Evaluation Metrics:\", metrics)"
   ],
   "id": "c2aa41029bcc4341",
   "outputs": [
    {
     "name": "stdout",
     "output_type": "stream",
     "text": [
      "Evaluation Metrics: {'accuracy': 0.9832, 'precision': 0.9848788486063035, 'recall': 0.9845201238390093, 'f1_score': 0.9846994535519126}\n"
     ]
    }
   ],
   "execution_count": 2
  }
 ],
 "metadata": {
  "kernelspec": {
   "display_name": "Python (poisonous_mushrooms)",
   "language": "python",
   "name": "poisonous_mushrooms"
  },
  "language_info": {
   "codemirror_mode": {
    "name": "ipython",
    "version": 2
   },
   "file_extension": ".py",
   "mimetype": "text/x-python",
   "name": "python",
   "nbconvert_exporter": "python",
   "pygments_lexer": "ipython2",
   "version": "2.7.6"
  }
 },
 "nbformat": 4,
 "nbformat_minor": 5
}
